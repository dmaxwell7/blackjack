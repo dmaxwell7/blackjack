{
 "cells": [
  {
   "cell_type": "code",
   "execution_count": 6,
   "id": "b67d49e1",
   "metadata": {},
   "outputs": [
    {
     "ename": "ModuleNotFoundError",
     "evalue": "No module named 'deck'",
     "output_type": "error",
     "traceback": [
      "\u001b[1;31m---------------------------------------------------------------------------\u001b[0m",
      "\u001b[1;31mModuleNotFoundError\u001b[0m                       Traceback (most recent call last)",
      "Input \u001b[1;32mIn [6]\u001b[0m, in \u001b[0;36m<cell line: 1>\u001b[1;34m()\u001b[0m\n\u001b[1;32m----> 1\u001b[0m \u001b[38;5;28;01mfrom\u001b[39;00m \u001b[38;5;21;01mdeck\u001b[39;00m \u001b[38;5;28;01mimport\u001b[39;00m Deck\n\u001b[0;32m      2\u001b[0m \u001b[38;5;28;01mfrom\u001b[39;00m \u001b[38;5;21;01mplayer\u001b[39;00m \u001b[38;5;28;01mimport\u001b[39;00m Player\n\u001b[0;32m      4\u001b[0m \u001b[38;5;28;01mclass\u001b[39;00m \u001b[38;5;21;01mBlackjack\u001b[39;00m:\n",
      "\u001b[1;31mModuleNotFoundError\u001b[0m: No module named 'deck'"
     ]
    }
   ],
   "source": [
    "from deck import Deck\n",
    "from player import Player\n",
    "\n",
    "class Blackjack:\n",
    "    def __init__(self):\n",
    "        self.deck = Deck()\n",
    "        self.deck.generate()\n",
    "        self.player = Player(False, self.deck)\n",
    "        self.dealer = Player(True, self.deck)\n",
    "\n",
    "    def play(self):\n",
    "        p_status = self.player.deal()\n",
    "        d_status = self.dealer.deal()\n",
    "\n",
    "        self.player.show()\n",
    "\n",
    "        if p_status == 1:\n",
    "            print(\"Player got Blackjack! Congrats!\")\n",
    "            if d_status == 1:\n",
    "                print(\"Dealer and Player got Blackjack! It's a push. (Tie)\")\n",
    "            return 1\n",
    "\n",
    "        cmd = \"\"\n",
    "        while cmd != \"Stand\":\n",
    "            bust = 0\n",
    "            cmd = input(\"Hit or Stand? \")\n",
    "\n",
    "            if cmd == \"Hit\":\n",
    "                bust = self.player.hit()\n",
    "                self.player.show()\n",
    "            if bust == 1:\n",
    "                print(\"Player busted. Good Game!\")\n",
    "                return 1\n",
    "        print(\"\\n\")\n",
    "        self.dealer.show()\n",
    "        if d_status == 1:\n",
    "            print(\"Dealer got Blackjack! Better luck next time!\")\n",
    "            return 1\n",
    "\n",
    "        while self.dealer.check_score() < 17:\n",
    "            if self.dealer.hit() == 1:\n",
    "                self.dealer.show()\n",
    "                print(\"Dealer busted. Congrats!\")\n",
    "                return 1\n",
    "            self.dealer.show()\n",
    "\n",
    "        if self.dealer.check_score() == self.player.check_score():\n",
    "            print(\"It's a Push (Tie). Better luck next time!\")\n",
    "        elif self.dealer.check_score() > self.player.check_score():\n",
    "            print(\"Dealer wins. Good Game!\")\n",
    "        elif self.dealer.check_score() < self.player.check_score():\n",
    "            print(\"Player wins. Congratulations!\")\n",
    "\n",
    "b = Blackjack()\n",
    "b.play()    "
   ]
  },
  {
   "cell_type": "code",
   "execution_count": null,
   "id": "1086cd4e",
   "metadata": {},
   "outputs": [],
   "source": []
  }
 ],
 "metadata": {
  "kernelspec": {
   "display_name": "Python 3 (ipykernel)",
   "language": "python",
   "name": "python3"
  },
  "language_info": {
   "codemirror_mode": {
    "name": "ipython",
    "version": 3
   },
   "file_extension": ".py",
   "mimetype": "text/x-python",
   "name": "python",
   "nbconvert_exporter": "python",
   "pygments_lexer": "ipython3",
   "version": "3.9.12"
  }
 },
 "nbformat": 4,
 "nbformat_minor": 5
}
